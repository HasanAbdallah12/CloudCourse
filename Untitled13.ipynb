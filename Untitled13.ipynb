{
  "nbformat": 4,
  "nbformat_minor": 0,
  "metadata": {
    "colab": {
      "provenance": [],
      "authorship_tag": "ABX9TyO/WUizXL1JyE8vVzxc/W7q",
      "include_colab_link": true
    },
    "kernelspec": {
      "name": "python3",
      "display_name": "Python 3"
    },
    "language_info": {
      "name": "python"
    }
  },
  "cells": [
    {
      "cell_type": "markdown",
      "metadata": {
        "id": "view-in-github",
        "colab_type": "text"
      },
      "source": [
        "<a href=\"https://colab.research.google.com/github/HasanAbdallah12/CloudCourse/blob/main/Untitled13.ipynb\" target=\"_parent\"><img src=\"https://colab.research.google.com/assets/colab-badge.svg\" alt=\"Open In Colab\"/></a>"
      ]
    },
    {
      "cell_type": "code",
      "execution_count": 1,
      "metadata": {
        "colab": {
          "base_uri": "https://localhost:8080/"
        },
        "id": "lnuqLZld0Hfe",
        "outputId": "53a35414-91e1-401d-f864-ea2bf0bb5fd7"
      },
      "outputs": [
        {
          "output_type": "stream",
          "name": "stdout",
          "text": [
            "Collecting paho-mqtt\n",
            "  Downloading paho_mqtt-2.1.0-py3-none-any.whl.metadata (23 kB)\n",
            "Downloading paho_mqtt-2.1.0-py3-none-any.whl (67 kB)\n",
            "\u001b[?25l   \u001b[90m━━━━━━━━━━━━━━━━━━━━━━━━━━━━━━━━━━━━━━━━\u001b[0m \u001b[32m0.0/67.2 kB\u001b[0m \u001b[31m?\u001b[0m eta \u001b[36m-:--:--\u001b[0m\r\u001b[2K   \u001b[90m━━━━━━━━━━━━━━━━━━━━━━━━━━━━━━━━━━━━━━━━\u001b[0m \u001b[32m67.2/67.2 kB\u001b[0m \u001b[31m3.3 MB/s\u001b[0m eta \u001b[36m0:00:00\u001b[0m\n",
            "\u001b[?25hInstalling collected packages: paho-mqtt\n",
            "Successfully installed paho-mqtt-2.1.0\n"
          ]
        },
        {
          "output_type": "stream",
          "name": "stderr",
          "text": [
            "<ipython-input-1-559d2d3805b3>:10: DeprecationWarning: Callback API version 1 is deprecated, update to latest version\n",
            "  self.client = mqtt.Client(callback_api_version=mqtt.CallbackAPIVersion.VERSION1)\n"
          ]
        },
        {
          "output_type": "stream",
          "name": "stdout",
          "text": [
            "🚀 בדיקת חיבור מקיפה...\n",
            "🔗 מתחבר לשרת...\n",
            "📤 שלחתי ל: braude/D106/test\n",
            "📤 שלחתי ל: braude/test\n",
            "📤 שלחתי ל: test/mqtt\n",
            "📤 שלחתי ל: my_test_topic\n",
            "\n",
            "⏳ מחכה 10 שניות להודעות...\n",
            "\n",
            "📊 סיכום: התקבלו 0 הודעות\n",
            "❌ לא התקבלו הודעות כלל\n",
            "\n",
            "אפשרויות:\n",
            "1. החיישנים לא משדרים כרגע\n",
            "2. יש חסימה ברשת\n",
            "3. ה-Topics השתנו\n"
          ]
        }
      ],
      "source": [
        "!pip install paho-mqtt\n",
        "import paho.mqtt.client as mqtt\n",
        "import json\n",
        "import time\n",
        "\n",
        "# גרסה מעודכנת עם API חדש\n",
        "class MQTTChecker:\n",
        "    def __init__(self):\n",
        "        # API החדש - מוסיפים callback_api_version\n",
        "        self.client = mqtt.Client(callback_api_version=mqtt.CallbackAPIVersion.VERSION1)\n",
        "        self.received_messages = []\n",
        "\n",
        "    def on_connect(self, client, userdata, flags, rc):\n",
        "        print(f\"🔌 חיבור: {'הצליח' if rc == 0 else f'נכשל ({rc})'}\")\n",
        "        if rc == 0:\n",
        "            # מנסה כמה patterns שונים\n",
        "            topics = [\n",
        "                \"braude/D106/indoor\",\n",
        "                \"braude/D106/outdoor\",\n",
        "                \"braude/D106/#\",\n",
        "                \"braude/#\",\n",
        "                \"#D106#\",\n",
        "                \"+/D106/+\",\n",
        "                \"test/+\"\n",
        "            ]\n",
        "            for topic in topics:\n",
        "                client.subscribe(topic)\n",
        "                print(f\"📡 נרשם ל: {topic}\")\n",
        "\n",
        "    def on_message(self, client, userdata, msg):\n",
        "        print(f\"📨 הודעה התקבלה!\")\n",
        "        print(f\"   Topic: {msg.topic}\")\n",
        "        print(f\"   Data: {msg.payload.decode()}\")\n",
        "        self.received_messages.append(msg.topic)\n",
        "\n",
        "    def test_connection(self):\n",
        "        print(\"🚀 בדיקת חיבור מקיפה...\")\n",
        "\n",
        "        # מתחבר\n",
        "        self.client.on_connect = self.on_connect\n",
        "        self.client.on_message = self.on_message\n",
        "\n",
        "        try:\n",
        "            print(\"🔗 מתחבר לשרת...\")\n",
        "            self.client.connect(\"test.mosquitto.org\", 1883, 60)\n",
        "            self.client.loop_start()\n",
        "\n",
        "            # מחכה לחיבור\n",
        "            time.sleep(2)\n",
        "\n",
        "            # שולח הודעות בדיקה לכמה topics\n",
        "            test_topics = [\n",
        "                \"braude/D106/test\",\n",
        "                \"braude/test\",\n",
        "                \"test/mqtt\",\n",
        "                \"my_test_topic\"\n",
        "            ]\n",
        "\n",
        "            for topic in test_topics:\n",
        "                data = {\"test\": f\"Testing {topic}\", \"time\": time.time()}\n",
        "                self.client.publish(topic, json.dumps(data))\n",
        "                print(f\"📤 שלחתי ל: {topic}\")\n",
        "\n",
        "            # מחכה לתשובות\n",
        "            print(\"\\n⏳ מחכה 10 שניות להודעות...\")\n",
        "            time.sleep(10)\n",
        "\n",
        "            # מסכם\n",
        "            print(f\"\\n📊 סיכום: התקבלו {len(self.received_messages)} הודעות\")\n",
        "            if self.received_messages:\n",
        "                print(\"Topics שהתקבלו:\")\n",
        "                for topic in self.received_messages:\n",
        "                    print(f\"   - {topic}\")\n",
        "            else:\n",
        "                print(\"❌ לא התקבלו הודעות כלל\")\n",
        "                print(\"\\nאפשרויות:\")\n",
        "                print(\"1. החיישנים לא משדרים כרגע\")\n",
        "                print(\"2. יש חסימה ברשת\")\n",
        "                print(\"3. ה-Topics השתנו\")\n",
        "\n",
        "            self.client.loop_stop()\n",
        "            self.client.disconnect()\n",
        "\n",
        "        except Exception as e:\n",
        "            print(f\"❌ שגיאה: {e}\")\n",
        "\n",
        "# הרץ את הבדיקה\n",
        "checker = MQTTChecker()\n",
        "checker.test_connection()"
      ]
    }
  ]
}